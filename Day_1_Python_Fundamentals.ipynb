{
  "cells": [
    {
      "cell_type": "markdown",
      "metadata": {
        "id": "fAlqfqHKkIjI"
      },
      "source": [
        "**Implementation (5)**"
      ]
    },
    {
      "cell_type": "markdown",
      "metadata": {
        "id": "vdj4rOjSkNKD"
      },
      "source": [
        "**1. Write functions demonstrating string, list, and dict manipulations.**"
      ]
    },
    {
      "cell_type": "code",
      "execution_count": 17,
      "metadata": {
        "colab": {
          "base_uri": "https://localhost:8080/"
        },
        "id": "iwc1ms_Jj4fQ",
        "outputId": "6e46be62-dcf2-4549-f6fd-53a701e5a958"
      },
      "outputs": [
        {
          "name": "stdout",
          "output_type": "stream",
          "text": [
            "('Hello world', 'dlrow olleh', [1, 10, 2, 4], {'name': 'Madhav', 'score': 90, 'grade': 'A'})\n"
          ]
        }
      ],
      "source": [
        "def string_list_dict_ops():\n",
        "    # String manipulation\n",
        "    text = \"hello world\"\n",
        "    capitalized = text.capitalize()\n",
        "    reversed_text = text[::-1]\n",
        "\n",
        "    # List manipulation\n",
        "    numbers = [1, 2, 3]\n",
        "    numbers.append(4)\n",
        "    numbers.insert(1, 10)\n",
        "    numbers.remove(3)\n",
        "\n",
        "    # Dictionary manipulation\n",
        "    student = {\"name\": \"Madhav\", \"score\": 85}\n",
        "    student[\"grade\"] = \"A\"\n",
        "    student[\"score\"] += 5  # update value\n",
        "\n",
        "    return capitalized, reversed_text, numbers, student\n",
        "\n",
        "print(string_list_dict_ops())"
      ]
    },
    {
      "cell_type": "markdown",
      "metadata": {
        "id": "YIbnT90tm9xg"
      },
      "source": [
        "**2. Build a command-line script reading and writing text files.**"
      ]
    },
    {
      "cell_type": "code",
      "execution_count": 26,
      "metadata": {
        "colab": {
          "base_uri": "https://localhost:8080/"
        },
        "id": "ItMTK81hm9aw",
        "outputId": "a6b941a5-97f2-400d-d52d-8ee5c3726e6c"
      },
      "outputs": [
        {
          "name": "stdout",
          "output_type": "stream",
          "text": [
            "File content: Hello Madhav!\n"
          ]
        }
      ],
      "source": [
        "def file_example():\n",
        "    # Write to a file\n",
        "    with open(\"test.txt\", \"w\") as f:\n",
        "        f.write(\"Hello Madhav!\")\n",
        "\n",
        "    # Read from a file\n",
        "    with open(\"test.txt\", \"r\") as f:\n",
        "        content = f.read()\n",
        "        print(\"File content:\", content)\n",
        "\n",
        "file_example()"
      ]
    },
    {
      "cell_type": "markdown",
      "metadata": {
        "id": "D_hRddK0nwPD"
      },
      "source": [
        "**3. Use list comprehensions to filter and transform a sample list.**"
      ]
    },
    {
      "cell_type": "code",
      "execution_count": 18,
      "metadata": {
        "colab": {
          "base_uri": "https://localhost:8080/"
        },
        "id": "RNqErBgdm9XB",
        "outputId": "4655476a-0ec3-457b-e05f-bf6dc7e1ab09"
      },
      "outputs": [
        {
          "name": "stdout",
          "output_type": "stream",
          "text": [
            "[4, 16, 36]\n"
          ]
        }
      ],
      "source": [
        "def process_numbers(nums):\n",
        "    # Square only even numbers\n",
        "    return [x**2 for x in nums if x % 2 == 0]\n",
        "\n",
        "sample = [1, 2, 3, 4, 5, 6]\n",
        "print(process_numbers(sample))  # Output: [4, 16, 36]\n",
        "\n",
        "# List comprehensions are preferred for readable, concise filtering + transformation."
      ]
    },
    {
      "cell_type": "markdown",
      "metadata": {
        "id": "Bx9HwoOKn8Nf"
      },
      "source": [
        "**4. Implement context management with a custom class and with.**"
      ]
    },
    {
      "cell_type": "code",
      "execution_count": 19,
      "metadata": {
        "colab": {
          "base_uri": "https://localhost:8080/"
        },
        "id": "X1EOF9CJm8_J",
        "outputId": "99ec1090-e4f5-4b60-89c8-5c207f2ce0e0"
      },
      "outputs": [
        {
          "name": "stdout",
          "output_type": "stream",
          "text": [
            "Opening file...\n",
            "Closing file...\n"
          ]
        }
      ],
      "source": [
        "class CustomFileManager:\n",
        "    def __init__(self, filename, mode):\n",
        "        self.filename = filename\n",
        "        self.mode = mode\n",
        "\n",
        "    def __enter__(self):\n",
        "        print(\"Opening file...\")\n",
        "        self.file = open(self.filename, self.mode)\n",
        "        return self.file\n",
        "\n",
        "    def __exit__(self, exc_type, exc_value, traceback):\n",
        "        print(\"Closing file...\")\n",
        "        self.file.close()\n",
        "\n",
        "# Usage:\n",
        "with CustomFileManager('sample.txt', 'w') as f:\n",
        "    f.write(\"Hello, from custom context manager!\")\n",
        "# Useful for managing files, DB connections, or any resource that needs cleanup"
      ]
    },
    {
      "cell_type": "markdown",
      "metadata": {
        "id": "gmWAQ7meoEga"
      },
      "source": [
        "**5. Create a Python package with an __init__.py and importable module.**"
      ]
    },
    {
      "cell_type": "code",
      "execution_count": 24,
      "metadata": {
        "id": "SDKmx4gam85H"
      },
      "outputs": [],
      "source": [
        "import os\n",
        "\n",
        "# Make directory\n",
        "os.makedirs(\"my_package\", exist_ok=True)\n",
        "\n",
        "# Write utils.py\n",
        "with open(\"my_package/utils.py\", \"w\") as f:\n",
        "    f.write(\"\"\"def greet(name):\\n    return f\"Welcome, {name}!\"\\n\"\"\")\n",
        "\n",
        "# Write __init__.py\n",
        "with open(\"my_package/__init__.py\", \"w\") as f:\n",
        "    f.write(\"from my_package.utils import greet\")\n"
      ]
    },
    {
      "cell_type": "code",
      "execution_count": 25,
      "metadata": {
        "colab": {
          "base_uri": "https://localhost:8080/"
        },
        "id": "peKqsjmJm82A",
        "outputId": "ecb62738-8c88-436c-b970-4f05fdf2402b"
      },
      "outputs": [
        {
          "name": "stdout",
          "output_type": "stream",
          "text": [
            "Welcome, Madhav!\n"
          ]
        }
      ],
      "source": [
        "import sys\n",
        "sys.path.append('.')  # Add current directory to Python path\n",
        "\n",
        "from my_package import greet\n",
        "\n",
        "print(greet(\"Madhav\"))  # Output: Welcome, Madhav!\n"
      ]
    },
    {
      "cell_type": "code",
      "execution_count": null,
      "metadata": {
        "id": "TcmVzzX5m8ys"
      },
      "outputs": [],
      "source": []
    }
  ],
  "metadata": {
    "colab": {
      "provenance": []
    },
    "kernelspec": {
      "display_name": "Python 3",
      "name": "python3"
    },
    "language_info": {
      "name": "python"
    }
  },
  "nbformat": 4,
  "nbformat_minor": 0
}
